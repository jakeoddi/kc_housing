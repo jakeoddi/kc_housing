{
 "cells": [
  {
   "cell_type": "code",
   "execution_count": 1,
   "metadata": {},
   "outputs": [],
   "source": [
    "import pandas as pd\n",
    "import numpy as np\n",
    "import matplotlib.pyplot as plt\n",
    "import seaborn as sns\n",
    "from datetime import datetime\n",
    "import statsmodels.formula.api as sm\n",
    "from sklearn.linear_model import LinearRegression\n",
    "from sklearn.preprocessing import StandardScaler\n",
    "from sklearn.model_selection import train_test_split\n",
    "from sklearn.metrics import mean_squared_error"
   ]
  },
  {
   "cell_type": "code",
   "execution_count": 2,
   "metadata": {},
   "outputs": [],
   "source": [
    "pd.set_option('display.max_columns', 300)"
   ]
  },
  {
   "cell_type": "markdown",
   "metadata": {},
   "source": [
    "## Step 1: Read in hold out data, scalers, and best model"
   ]
  },
  {
   "cell_type": "code",
   "execution_count": 3,
   "metadata": {},
   "outputs": [],
   "source": [
    "holdout = pd.read_csv('kc_house_data_test_features.csv')"
   ]
  },
  {
   "cell_type": "code",
   "execution_count": 8,
   "metadata": {},
   "outputs": [],
   "source": [
    "import pickle\n",
    "\n",
    "final_scaler = pd.read_pickle(\"kc_house_scaler.pickle\")\n",
    "final_model = pd.read_pickle(\"kc_house_model.pickle\")"
   ]
  },
  {
   "cell_type": "markdown",
   "metadata": {},
   "source": [
    "## Step 2: Feature Engineering for holdout set"
   ]
  },
  {
   "cell_type": "markdown",
   "metadata": {},
   "source": [
    "Remember we have to perform the same transformations on our holdout data (feature engineering, extreme values, and scaling) that we performed on the original data."
   ]
  },
  {
   "cell_type": "code",
   "execution_count": 13,
   "metadata": {},
   "outputs": [],
   "source": [
    "def engineering(dataframe):\n",
    "    dataframe.drop(columns = 'Unnamed: 0', inplace = True)\n",
    "    dataframe['date'] = dataframe['date'].map(lambda x: x[:8]) # Removes 'T000000' from end of each date\n",
    "    dataframe['date'] = pd.to_datetime(dataframe['date'], format = '%Y%M%d', errors = 'coerce')\n",
    "\n",
    "\n",
    "    dataframe['bedrooms'] = np.where((dataframe['bedrooms'] + 1)/(dataframe['bathrooms'] + 1) > 4, \n",
    "                                      dataframe['bedrooms'].median(), \n",
    "                                      dataframe['bedrooms']) # Taking care of outliers in bedrooms\n",
    "\n",
    "    dataframe['bathrooms'] = np.where((dataframe['bathrooms'] + 1)/(dataframe['bedrooms'] + 1) > 4,\n",
    "                                       dataframe['bathrooms'].median(), \n",
    "                                       dataframe['bathrooms']) # Taking care of outliers in bathrooms\n",
    "\n",
    "    dataframe['sale_yr'] = dataframe['date'].dt.year # New column using only year component of date column\n",
    "    \n",
    "    dataframe['home_age'] = dataframe['sale_yr'] - dataframe['yr_built']\n",
    "    \n",
    "    dataframe['home_age'] = np.where(dataframe['home_age'] == -1, \n",
    "                                     0, \n",
    "                                     dataframe['home_age']) # Removing rows where year built was after year sold\n",
    "\n",
    "    dataframe['yr_renovated'] = np.where(dataframe['yr_renovated'] > dataframe['sale_yr'], \n",
    "                                         dataframe['sale_yr'], \n",
    "                                         dataframe['yr_renovated']) # Removing rows where year renovated was after year sold\n",
    "        \n",
    "    dataframe['yrs_since_reno'] = np.where(dataframe['yr_renovated'] != 0, \n",
    "                                           dataframe['sale_yr'] - dataframe['yr_renovated'], \n",
    "                                           dataframe['home_age']) # Creates yrs_since_reno col depending on if house was renovated\n",
    "\n",
    "    ohe = pd.get_dummies(dataframe['zipcode']) #step 2 of engineering/cleaning before adding nnp cols\n",
    "    dataframe = dataframe.join(ohe)\n",
    "    \n",
    "    dataframe['sqrt_grade'] = np.sqrt(dataframe['grade'])\n",
    "    \n",
    "    dataframe = dataframe.drop(columns = ['id', 'date', 'zipcode', 'lat', 'long', \n",
    "                                'yr_renovated', 'sale_yr', 'yr_built'])\n",
    "    \n",
    "    \n",
    "    return dataframe"
   ]
  },
  {
   "cell_type": "code",
   "execution_count": 12,
   "metadata": {},
   "outputs": [
    {
     "data": {
      "text/plain": [
       "(4323, 85)"
      ]
     },
     "execution_count": 12,
     "metadata": {},
     "output_type": "execute_result"
    }
   ],
   "source": [
    "# transformed_holdout = engineering(holdout)\n",
    "transformed_holdout = transformed_holdout.drop(columns = ['id', 'date', 'zipcode', 'lat', 'long', \n",
    "                                'yr_renovated', 'sale_yr', 'yr_built'])\n",
    "transformed_holdout.shape"
   ]
  },
  {
   "cell_type": "code",
   "execution_count": 9,
   "metadata": {},
   "outputs": [
    {
     "ename": "ValueError",
     "evalue": "operands could not be broadcast together with shapes (4323,85) (86,) (4323,85) ",
     "output_type": "error",
     "traceback": [
      "\u001b[0;31m---------------------------------------------------------------------------\u001b[0m",
      "\u001b[0;31mValueError\u001b[0m                                Traceback (most recent call last)",
      "\u001b[0;32m<ipython-input-9-6274572a9b79>\u001b[0m in \u001b[0;36m<module>\u001b[0;34m()\u001b[0m\n\u001b[0;32m----> 1\u001b[0;31m \u001b[0mtransformed_holdout\u001b[0m \u001b[0;34m=\u001b[0m \u001b[0mfinal_scaler\u001b[0m\u001b[0;34m.\u001b[0m\u001b[0mtransform\u001b[0m\u001b[0;34m(\u001b[0m\u001b[0mtransformed_holdout\u001b[0m\u001b[0;34m)\u001b[0m\u001b[0;34m\u001b[0m\u001b[0;34m\u001b[0m\u001b[0m\n\u001b[0m",
      "\u001b[0;32m/opt/anaconda3/envs/learn-env/lib/python3.6/site-packages/sklearn/preprocessing/data.py\u001b[0m in \u001b[0;36mtransform\u001b[0;34m(self, X, copy)\u001b[0m\n\u001b[1;32m    767\u001b[0m         \u001b[0;32melse\u001b[0m\u001b[0;34m:\u001b[0m\u001b[0;34m\u001b[0m\u001b[0;34m\u001b[0m\u001b[0m\n\u001b[1;32m    768\u001b[0m             \u001b[0;32mif\u001b[0m \u001b[0mself\u001b[0m\u001b[0;34m.\u001b[0m\u001b[0mwith_mean\u001b[0m\u001b[0;34m:\u001b[0m\u001b[0;34m\u001b[0m\u001b[0;34m\u001b[0m\u001b[0m\n\u001b[0;32m--> 769\u001b[0;31m                 \u001b[0mX\u001b[0m \u001b[0;34m-=\u001b[0m \u001b[0mself\u001b[0m\u001b[0;34m.\u001b[0m\u001b[0mmean_\u001b[0m\u001b[0;34m\u001b[0m\u001b[0;34m\u001b[0m\u001b[0m\n\u001b[0m\u001b[1;32m    770\u001b[0m             \u001b[0;32mif\u001b[0m \u001b[0mself\u001b[0m\u001b[0;34m.\u001b[0m\u001b[0mwith_std\u001b[0m\u001b[0;34m:\u001b[0m\u001b[0;34m\u001b[0m\u001b[0;34m\u001b[0m\u001b[0m\n\u001b[1;32m    771\u001b[0m                 \u001b[0mX\u001b[0m \u001b[0;34m/=\u001b[0m \u001b[0mself\u001b[0m\u001b[0;34m.\u001b[0m\u001b[0mscale_\u001b[0m\u001b[0;34m\u001b[0m\u001b[0;34m\u001b[0m\u001b[0m\n",
      "\u001b[0;31mValueError\u001b[0m: operands could not be broadcast together with shapes (4323,85) (86,) (4323,85) "
     ]
    }
   ],
   "source": [
    "transformed_holdout = final_scaler.transform(transformed_holdout)"
   ]
  },
  {
   "cell_type": "markdown",
   "metadata": {},
   "source": [
    "## Step 3: Predict the holdout set"
   ]
  },
  {
   "cell_type": "code",
   "execution_count": 6,
   "metadata": {},
   "outputs": [],
   "source": [
    "# final_answers = final_model.predict(transformed_holdout)"
   ]
  },
  {
   "cell_type": "markdown",
   "metadata": {},
   "source": [
    "## Step 4: Export your predictions"
   ]
  },
  {
   "cell_type": "code",
   "execution_count": 7,
   "metadata": {},
   "outputs": [],
   "source": [
    "# final_answer.to_csv('housing_preds_your_name.csv')"
   ]
  }
 ],
 "metadata": {
  "kernelspec": {
   "display_name": "Python 3",
   "language": "python",
   "name": "python3"
  },
  "language_info": {
   "codemirror_mode": {
    "name": "ipython",
    "version": 3
   },
   "file_extension": ".py",
   "mimetype": "text/x-python",
   "name": "python",
   "nbconvert_exporter": "python",
   "pygments_lexer": "ipython3",
   "version": "3.6.9"
  }
 },
 "nbformat": 4,
 "nbformat_minor": 4
}
